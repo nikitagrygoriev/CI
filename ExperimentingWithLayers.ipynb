{
  "nbformat": 4,
  "nbformat_minor": 0,
  "metadata": {
    "kernelspec": {
      "display_name": "Python 3",
      "language": "python",
      "name": "python3"
    },
    "language_info": {
      "codemirror_mode": {
        "name": "ipython",
        "version": 3
      },
      "file_extension": ".py",
      "mimetype": "text/x-python",
      "name": "python",
      "nbconvert_exporter": "python",
      "pygments_lexer": "ipython3",
      "version": "3.6.10"
    },
    "colab": {
      "name": "Lecture2.ipynb",
      "provenance": [],
      "collapsed_sections": [],
      "include_colab_link": true
    }
  },
  "cells": [
    {
      "cell_type": "markdown",
      "metadata": {
        "id": "view-in-github",
        "colab_type": "text"
      },
      "source": [
        "<a href=\"https://colab.research.google.com/github/nikitagrygoriev/CI/blob/master/Lecture2.ipynb\" target=\"_parent\"><img src=\"https://colab.research.google.com/assets/colab-badge.svg\" alt=\"Open In Colab\"/></a>"
      ]
    },
    {
      "cell_type": "code",
      "metadata": {
        "id": "D4rSwsNg6Rp5",
        "colab_type": "code",
        "outputId": "1327386d-51f6-4d21-d151-5328cb9d914e",
        "colab": {
          "base_uri": "https://localhost:8080/",
          "height": 34
        }
      },
      "source": [
        "import keras\n",
        "keras.__version__"
      ],
      "execution_count": 0,
      "outputs": [
        {
          "output_type": "execute_result",
          "data": {
            "text/plain": [
              "'2.2.5'"
            ]
          },
          "metadata": {
            "tags": []
          },
          "execution_count": 122
        }
      ]
    },
    {
      "cell_type": "markdown",
      "metadata": {
        "id": "f14gL_u26Rp_",
        "colab_type": "text"
      },
      "source": [
        "# Classifying newswires: a multi-class classification example\n",
        "\n",
        "This notebook contains the code samples found in Chapter 3, Section 5 of [Deep Learning with Python](https://www.manning.com/books/deep-learning-with-python?a_aid=keras&a_bid=76564dff). Note that the original text features far more content, in particular further explanations and figures: in this notebook, you will only find source code and related comments.\n",
        "\n",
        "----\n",
        "\n",
        "In the previous section we saw how to classify vector inputs into two mutually exclusive classes using a densely-connected neural network. \n",
        "But what happens when you have more than two classes? \n",
        "\n",
        "In this section, we will build a network to classify Reuters newswires into 46 different mutually-exclusive topics. Since we have many \n",
        "classes, this problem is an instance of \"multi-class classification\", and since each data point should be classified into only one \n",
        "category, the problem is more specifically an instance of \"single-label, multi-class classification\". If each data point could have \n",
        "belonged to multiple categories (in our case, topics) then we would be facing a \"multi-label, multi-class classification\" problem."
      ]
    },
    {
      "cell_type": "markdown",
      "metadata": {
        "id": "VnvblH036RqA",
        "colab_type": "text"
      },
      "source": [
        "## The Reuters dataset\n",
        "\n",
        "\n",
        "We will be working with the _Reuters dataset_, a set of short newswires and their topics, published by Reuters in 1986. It's a very simple, \n",
        "widely used toy dataset for text classification. There are 46 different topics; some topics are more represented than others, but each \n",
        "topic has at least 10 examples in the training set.\n",
        "\n",
        "Like IMDB and MNIST, the Reuters dataset comes packaged as part of Keras. Let's take a look right away:"
      ]
    },
    {
      "cell_type": "code",
      "metadata": {
        "id": "zxGaWe-d6RqB",
        "colab_type": "code",
        "colab": {}
      },
      "source": [
        "from keras.datasets import reuters\n",
        "\n",
        "(train_data, train_labels), (test_data, test_labels) = reuters.load_data(num_words=10000)"
      ],
      "execution_count": 0,
      "outputs": []
    },
    {
      "cell_type": "markdown",
      "metadata": {
        "id": "SgxJ21Jz6RqF",
        "colab_type": "text"
      },
      "source": [
        "\n",
        "Like with the IMDB dataset, the argument `num_words=10000` restricts the data to the 10,000 most frequently occurring words found in the \n",
        "data.\n",
        "\n",
        "We have 8,982 training examples and 2,246 test examples:"
      ]
    },
    {
      "cell_type": "code",
      "metadata": {
        "id": "Hv_sCSCt6RqG",
        "colab_type": "code",
        "outputId": "1193c845-4ad2-44db-faec-f1204c6bcb1d",
        "colab": {
          "base_uri": "https://localhost:8080/",
          "height": 34
        }
      },
      "source": [
        "len(train_data)"
      ],
      "execution_count": 0,
      "outputs": [
        {
          "output_type": "execute_result",
          "data": {
            "text/plain": [
              "8982"
            ]
          },
          "metadata": {
            "tags": []
          },
          "execution_count": 124
        }
      ]
    },
    {
      "cell_type": "code",
      "metadata": {
        "id": "6TGkZhNQ6RqK",
        "colab_type": "code",
        "outputId": "eae9025e-d565-46da-c574-2dbe90cff624",
        "colab": {
          "base_uri": "https://localhost:8080/",
          "height": 34
        }
      },
      "source": [
        "len(test_data)"
      ],
      "execution_count": 0,
      "outputs": [
        {
          "output_type": "execute_result",
          "data": {
            "text/plain": [
              "2246"
            ]
          },
          "metadata": {
            "tags": []
          },
          "execution_count": 125
        }
      ]
    },
    {
      "cell_type": "markdown",
      "metadata": {
        "id": "b2jSbdn16RqO",
        "colab_type": "text"
      },
      "source": [
        "As with the IMDB reviews, each example is a list of integers (word indices):"
      ]
    },
    {
      "cell_type": "code",
      "metadata": {
        "id": "SAec91fW6RqO",
        "colab_type": "code",
        "outputId": "bdc29d94-0603-480f-d830-46d7dac4429b",
        "colab": {
          "base_uri": "https://localhost:8080/",
          "height": 34
        }
      },
      "source": [
        "print(train_data[10])"
      ],
      "execution_count": 0,
      "outputs": [
        {
          "output_type": "stream",
          "text": [
            "[1, 245, 273, 207, 156, 53, 74, 160, 26, 14, 46, 296, 26, 39, 74, 2979, 3554, 14, 46, 4689, 4329, 86, 61, 3499, 4795, 14, 61, 451, 4329, 17, 12]\n"
          ],
          "name": "stdout"
        }
      ]
    },
    {
      "cell_type": "markdown",
      "metadata": {
        "id": "x5hXMw3c6RqS",
        "colab_type": "text"
      },
      "source": [
        "Here's how you can decode it back to words, in case you are curious:"
      ]
    },
    {
      "cell_type": "code",
      "metadata": {
        "id": "Sm9KoPYp6RqT",
        "colab_type": "code",
        "colab": {}
      },
      "source": [
        "word_index = reuters.get_word_index()\n",
        "reverse_word_index = dict([(value, key) for (key, value) in word_index.items()])\n",
        "# Note that our indices were offset by 3\n",
        "# because 0, 1 and 2 are reserved indices for \"padding\", \"start of sequence\", and \"unknown\".\n",
        "decoded_newswire = ' '.join([reverse_word_index.get(i - 3, '?') for i in train_data[0]])"
      ],
      "execution_count": 0,
      "outputs": []
    },
    {
      "cell_type": "code",
      "metadata": {
        "id": "r4vzsKgV6RqX",
        "colab_type": "code",
        "outputId": "25aabbf1-4656-4b23-fe1d-8daee1c2a9b0",
        "colab": {
          "base_uri": "https://localhost:8080/",
          "height": 54
        }
      },
      "source": [
        "decoded_newswire"
      ],
      "execution_count": 0,
      "outputs": [
        {
          "output_type": "execute_result",
          "data": {
            "text/plain": [
              "'? ? ? said as a result of its december acquisition of space co it expects earnings per share in 1987 of 1 15 to 1 30 dlrs per share up from 70 cts in 1986 the company said pretax net should rise to nine to 10 mln dlrs from six mln dlrs in 1986 and rental operation revenues to 19 to 22 mln dlrs from 12 5 mln dlrs it said cash flow per share this year should be 2 50 to three dlrs reuter 3'"
            ]
          },
          "metadata": {
            "tags": []
          },
          "execution_count": 128
        }
      ]
    },
    {
      "cell_type": "markdown",
      "metadata": {
        "id": "hezdl4D56Rqa",
        "colab_type": "text"
      },
      "source": [
        "The label associated with an example is an integer between 0 and 45: a topic index."
      ]
    },
    {
      "cell_type": "code",
      "metadata": {
        "id": "0_HBFOy36Rqb",
        "colab_type": "code",
        "outputId": "c7964e00-734a-42e8-b03b-3283181ccbbb",
        "colab": {
          "base_uri": "https://localhost:8080/",
          "height": 34
        }
      },
      "source": [
        "train_labels[10]"
      ],
      "execution_count": 0,
      "outputs": [
        {
          "output_type": "execute_result",
          "data": {
            "text/plain": [
              "3"
            ]
          },
          "metadata": {
            "tags": []
          },
          "execution_count": 129
        }
      ]
    },
    {
      "cell_type": "markdown",
      "metadata": {
        "id": "Iz83H6XF6Rqf",
        "colab_type": "text"
      },
      "source": [
        "## Preparing the data\n",
        "\n",
        "We can vectorize the data with the exact same code as in our previous example:"
      ]
    },
    {
      "cell_type": "code",
      "metadata": {
        "id": "qQexvPtx6Rqg",
        "colab_type": "code",
        "colab": {}
      },
      "source": [
        "import numpy as np\n",
        "\n",
        "def vectorize_sequences(sequences, dimension=10000):\n",
        "    results = np.zeros((len(sequences), dimension))\n",
        "    for i, sequence in enumerate(sequences):\n",
        "        results[i, sequence] = 1.\n",
        "    return results\n",
        "\n",
        "# Our vectorized training data\n",
        "x_train = vectorize_sequences(train_data)\n",
        "# Our vectorized test data\n",
        "x_test = vectorize_sequences(test_data)"
      ],
      "execution_count": 0,
      "outputs": []
    },
    {
      "cell_type": "markdown",
      "metadata": {
        "id": "ERCC-KLW6Rqj",
        "colab_type": "text"
      },
      "source": [
        "\n",
        "To vectorize the labels, there are two possibilities: we could just cast the label list as an integer tensor, or we could use a \"one-hot\" \n",
        "encoding. One-hot encoding is a widely used format for categorical data, also called \"categorical encoding\". \n",
        "For a more detailed explanation of one-hot encoding, you can refer to Chapter 6, Section 1. \n",
        "In our case, one-hot encoding of our labels consists in embedding each label as an all-zero vector with a 1 in the place of the label index, e.g.:"
      ]
    },
    {
      "cell_type": "code",
      "metadata": {
        "id": "r_vqIY3K6Rqk",
        "colab_type": "code",
        "outputId": "dbd169c9-43fb-4165-fdbb-d852b24e98e5",
        "colab": {
          "base_uri": "https://localhost:8080/",
          "height": 34
        }
      },
      "source": [
        "def to_one_hot1(labels, dimension=46):\n",
        "    results = np.zeros((len(labels), dimension))\n",
        "    for i, label in enumerate(labels):\n",
        "        results[i, label] = 1.\n",
        "    return results\n",
        "\n",
        "def to_one_hot(labels, dimension=46):\n",
        "    results = []\n",
        "    \n",
        "    for label in labels:\n",
        "        results.append(np.asarray([label==i for i in range(0,dimension)],dtype=np.uint8))\n",
        "        \n",
        "    return np.asarray(results)\n",
        "    \n",
        "# Our vectorized training labels\n",
        "one_hot_train_labels = to_one_hot(train_labels)\n",
        "# Our vectorized test labels\n",
        "one_hot_test_labels = to_one_hot(test_labels)\n",
        "\n",
        "print(one_hot_train_labels.shape)"
      ],
      "execution_count": 0,
      "outputs": [
        {
          "output_type": "stream",
          "text": [
            "(8982, 46)\n"
          ],
          "name": "stdout"
        }
      ]
    },
    {
      "cell_type": "code",
      "metadata": {
        "id": "XNNxVoYX6Rqo",
        "colab_type": "code",
        "outputId": "c4e6a594-f23a-4f7e-84a7-908fb26c82e1",
        "colab": {
          "base_uri": "https://localhost:8080/",
          "height": 51
        }
      },
      "source": [
        "dimension = 46\n",
        "label = 34\n",
        "res = np.asarray([label==i for i in range(0,dimension)],dtype=np.uint8)\n",
        "print(res)"
      ],
      "execution_count": 0,
      "outputs": [
        {
          "output_type": "stream",
          "text": [
            "[0 0 0 0 0 0 0 0 0 0 0 0 0 0 0 0 0 0 0 0 0 0 0 0 0 0 0 0 0 0 0 0 0 0 1 0 0\n",
            " 0 0 0 0 0 0 0 0 0]\n"
          ],
          "name": "stdout"
        }
      ]
    },
    {
      "cell_type": "markdown",
      "metadata": {
        "id": "8g6rOI-Y6Rqr",
        "colab_type": "text"
      },
      "source": [
        "Note that there is a built-in way to do this in Keras, which you have already seen in action in our MNIST example:"
      ]
    },
    {
      "cell_type": "code",
      "metadata": {
        "id": "tEtA0CLN6Rqs",
        "colab_type": "code",
        "colab": {}
      },
      "source": [
        "from keras.utils.np_utils import to_categorical\n",
        "\n",
        "one_hot_train_labels = to_categorical(train_labels)\n",
        "one_hot_test_labels = to_categorical(test_labels)"
      ],
      "execution_count": 0,
      "outputs": []
    },
    {
      "cell_type": "markdown",
      "metadata": {
        "id": "D0BrMzk86Rqv",
        "colab_type": "text"
      },
      "source": [
        "## Class weights\n",
        "\n",
        "Before we continue, let us calculate the weights for the classess. Fit method for a network model accepts an optional argument class_weight which must be a disctionary. All classess present in the training set must have associated items in the dictionary.\n",
        "\n",
        "## Use Keras home page!!!"
      ]
    },
    {
      "cell_type": "code",
      "metadata": {
        "id": "B-vv00LQ6Rqy",
        "colab_type": "code",
        "outputId": "bd6cd6bd-65e0-4e08-c642-65bba829859a",
        "colab": {
          "base_uri": "https://localhost:8080/",
          "height": 343
        }
      },
      "source": [
        "import numpy as np\n",
        "\n",
        "counts = np.unique(train_labels,return_counts=True)\n",
        "\n",
        "counts = np.asarray(counts)\n",
        "print(counts.shape)\n",
        "\n",
        "print(counts)\n",
        "\n",
        "weights = np.ones(counts.shape[1],dtype=np.float32)\n",
        "\n",
        "weights = 1/counts[1,:]\n",
        "\n",
        "w = np.sum(weights)\n",
        "\n",
        "weights = weights/w\n",
        "\n",
        "print(weights)\n",
        "\n",
        "weightsDict = dict(zip(np.asarray(counts[0,:]),weights))\n",
        "print(weightsDict)\n"
      ],
      "execution_count": 0,
      "outputs": [
        {
          "output_type": "stream",
          "text": [
            "(2, 46)\n",
            "[[   0    1    2    3    4    5    6    7    8    9   10   11   12   13\n",
            "    14   15   16   17   18   19   20   21   22   23   24   25   26   27\n",
            "    28   29   30   31   32   33   34   35   36   37   38   39   40   41\n",
            "    42   43   44   45]\n",
            " [  55  432   74 3159 1949   17   48   16  139  101  124  390   49  172\n",
            "    26   20  444   39   66  549  269  100   15   41   62   92   24   15\n",
            "    48   19   45   39   32   11   50   10   49   19   19   24   36   30\n",
            "    13   21   12   18]]\n",
            "[0.01245548 0.00158577 0.00925745 0.00021686 0.00035149 0.04029715\n",
            " 0.01427191 0.04281572 0.00492843 0.00678269 0.00552461 0.00175654\n",
            " 0.01398064 0.00398286 0.02634814 0.03425258 0.00154291 0.01756542\n",
            " 0.01037957 0.00124782 0.00254666 0.00685052 0.0456701  0.01670857\n",
            " 0.01104922 0.00744621 0.02854382 0.0456701  0.01427191 0.03605535\n",
            " 0.01522337 0.01756542 0.02140786 0.06227742 0.01370103 0.06850516\n",
            " 0.01398064 0.03605535 0.03605535 0.02854382 0.01902921 0.02283505\n",
            " 0.05269627 0.0326215  0.05708763 0.03805842]\n",
            "{0: 0.012455483067718345, 1: 0.0015857675201956226, 2: 0.009257453631412284, 3: 0.00021685709677888857, 4: 0.0003514887474215028, 5: 0.040297151101441706, 6: 0.014271907681760603, 7: 0.04281572304528181, 8: 0.004928428551974885, 9: 0.0067826887992525646, 10: 0.005524609425197653, 11: 0.0017565424839089973, 12: 0.013980644259683856, 13: 0.0039828579577006334, 14: 0.02634813725863496, 15: 0.03425257843622545, 16: 0.001542908938568714, 17: 0.017565424839089974, 18: 0.010379569223098621, 19: 0.0012478170650719654, 20: 0.002546660106782561, 21: 0.00685051568724509, 22: 0.04567010458163393, 23: 0.016708574846939245, 24: 0.011049218850395306, 25: 0.007446212703527272, 26: 0.028543815363521206, 27: 0.04567010458163393, 28: 0.014271907681760603, 29: 0.03605534572234258, 30: 0.015223368193877979, 31: 0.017565424839089974, 32: 0.021407861522640906, 33: 0.06227741533859173, 34: 0.01370103137449018, 35: 0.0685051568724509, 36: 0.013980644259683856, 37: 0.03605534572234258, 38: 0.03605534572234258, 39: 0.028543815363521206, 40: 0.01902921024234747, 41: 0.022835052290816966, 42: 0.05269627451726992, 43: 0.032621503272595664, 44: 0.05708763072704241, 45: 0.03805842048469494}\n"
          ],
          "name": "stdout"
        }
      ]
    },
    {
      "cell_type": "markdown",
      "metadata": {
        "id": "skSQs8z26Rq1",
        "colab_type": "text"
      },
      "source": [
        "## Building our network\n",
        "\n",
        "\n",
        "This topic classification problem looks very similar to our previous movie review classification problem: in both cases, we are trying to \n",
        "classify short snippets of text. There is however a new constraint here: the number of output classes has gone from 2 to 46, i.e. the \n",
        "dimensionality of the output space is much larger. \n",
        "\n",
        "In a stack of `Dense` layers like what we were using, each layer can only access information present in the output of the previous layer. \n",
        "If one layer drops some information relevant to the classification problem, this information can never be recovered by later layers: each \n",
        "layer can potentially become an \"information bottleneck\". In our previous example, we were using 16-dimensional intermediate layers, but a \n",
        "16-dimensional space may be too limited to learn to separate 46 different classes: such small layers may act as information bottlenecks, \n",
        "permanently dropping relevant information.\n",
        "\n",
        "For this reason we will use larger layers. Let's go with 64 units:"
      ]
    },
    {
      "cell_type": "code",
      "metadata": {
        "id": "Ko-awZ9k6Rq1",
        "colab_type": "code",
        "colab": {}
      },
      "source": [
        "from tensorflow.keras import models\n",
        "from tensorflow.keras import layers\n",
        "\n",
        "model = models.Sequential()\n",
        "model.add(layers.Dense(64, activation='relu', input_shape=(10000,)))\n",
        "model.add(layers.Dense(64, activation='relu'))\n",
        "model.add(layers.Dense(46, activation='softmax'))"
      ],
      "execution_count": 0,
      "outputs": []
    },
    {
      "cell_type": "markdown",
      "metadata": {
        "id": "2NgoZmeE6Rq4",
        "colab_type": "text"
      },
      "source": [
        "\n",
        "There are two other things you should note about this architecture:\n",
        "\n",
        "* We are ending the network with a `Dense` layer of size 46. This means that for each input sample, our network will output a \n",
        "46-dimensional vector. Each entry in this vector (each dimension) will encode a different output class.\n",
        "* The last layer uses a `softmax` activation. You have already seen this pattern in the MNIST example. It means that the network will \n",
        "output a _probability distribution_ over the 46 different output classes, i.e. for every input sample, the network will produce a \n",
        "46-dimensional output vector where `output[i]` is the probability that the sample belongs to class `i`. The 46 scores will sum to 1.\n",
        "\n",
        "The best loss function to use in this case is `categorical_crossentropy`. It measures the distance between two probability distributions: \n",
        "in our case, between the probability distribution output by our network, and the true distribution of the labels. By minimizing the \n",
        "distance between these two distributions, we train our network to output something as close as possible to the true labels."
      ]
    },
    {
      "cell_type": "code",
      "metadata": {
        "id": "wVxfZdMw6Rq5",
        "colab_type": "code",
        "colab": {}
      },
      "source": [
        "model.compile(optimizer='rmsprop',\n",
        "              loss='categorical_crossentropy',\n",
        "              metrics=['accuracy'])"
      ],
      "execution_count": 0,
      "outputs": []
    },
    {
      "cell_type": "markdown",
      "metadata": {
        "id": "zUi9JWc56Rq8",
        "colab_type": "text"
      },
      "source": [
        "## Validating our approach\n",
        "\n",
        "Let's set apart 1,000 samples in our training data to use as a validation set:"
      ]
    },
    {
      "cell_type": "code",
      "metadata": {
        "id": "mn0fPT7m6Rq9",
        "colab_type": "code",
        "colab": {}
      },
      "source": [
        "x_val = x_train[:1000]\n",
        "partial_x_train = x_train[1000:]\n",
        "\n",
        "y_val = one_hot_train_labels[:1000]\n",
        "partial_y_train = one_hot_train_labels[1000:]"
      ],
      "execution_count": 0,
      "outputs": []
    },
    {
      "cell_type": "markdown",
      "metadata": {
        "id": "gO7MQF-t6Rq_",
        "colab_type": "text"
      },
      "source": [
        "Now let's train our network for 20 epochs:"
      ]
    },
    {
      "cell_type": "code",
      "metadata": {
        "id": "bOaFZqe66RrA",
        "colab_type": "code",
        "outputId": "f813f9f6-39e7-4643-a775-521f627306d1",
        "colab": {
          "base_uri": "https://localhost:8080/",
          "height": 697
        }
      },
      "source": [
        "history = model.fit(partial_x_train,\n",
        "                    partial_y_train,\n",
        "                    epochs=20,\n",
        "                    batch_size=512,\n",
        "                    validation_data=(x_val, y_val),class_weight = weightsDict)"
      ],
      "execution_count": 0,
      "outputs": [
        {
          "output_type": "stream",
          "text": [
            "Epoch 1/20\n",
            "16/16 [==============================] - 1s 49ms/step - loss: 0.0000e+00 - accuracy: 0.0060 - val_loss: 3.8334 - val_accuracy: 0.0040\n",
            "Epoch 2/20\n",
            "16/16 [==============================] - 1s 44ms/step - loss: 0.0000e+00 - accuracy: 0.0060 - val_loss: 3.8334 - val_accuracy: 0.0040\n",
            "Epoch 3/20\n",
            "16/16 [==============================] - 1s 43ms/step - loss: 0.0000e+00 - accuracy: 0.0060 - val_loss: 3.8334 - val_accuracy: 0.0040\n",
            "Epoch 4/20\n",
            "16/16 [==============================] - 1s 44ms/step - loss: 0.0000e+00 - accuracy: 0.0060 - val_loss: 3.8334 - val_accuracy: 0.0040\n",
            "Epoch 5/20\n",
            "16/16 [==============================] - 1s 45ms/step - loss: 0.0000e+00 - accuracy: 0.0060 - val_loss: 3.8334 - val_accuracy: 0.0040\n",
            "Epoch 6/20\n",
            "16/16 [==============================] - 1s 45ms/step - loss: 0.0000e+00 - accuracy: 0.0060 - val_loss: 3.8334 - val_accuracy: 0.0040\n",
            "Epoch 7/20\n",
            "16/16 [==============================] - 1s 43ms/step - loss: 0.0000e+00 - accuracy: 0.0060 - val_loss: 3.8334 - val_accuracy: 0.0040\n",
            "Epoch 8/20\n",
            "16/16 [==============================] - 1s 44ms/step - loss: 0.0000e+00 - accuracy: 0.0060 - val_loss: 3.8334 - val_accuracy: 0.0040\n",
            "Epoch 9/20\n",
            "16/16 [==============================] - 1s 44ms/step - loss: 0.0000e+00 - accuracy: 0.0060 - val_loss: 3.8334 - val_accuracy: 0.0040\n",
            "Epoch 10/20\n",
            "16/16 [==============================] - 1s 44ms/step - loss: 0.0000e+00 - accuracy: 0.0060 - val_loss: 3.8334 - val_accuracy: 0.0040\n",
            "Epoch 11/20\n",
            "16/16 [==============================] - 1s 44ms/step - loss: 0.0000e+00 - accuracy: 0.0060 - val_loss: 3.8334 - val_accuracy: 0.0040\n",
            "Epoch 12/20\n",
            "16/16 [==============================] - 1s 44ms/step - loss: 0.0000e+00 - accuracy: 0.0060 - val_loss: 3.8334 - val_accuracy: 0.0040\n",
            "Epoch 13/20\n",
            "16/16 [==============================] - 1s 44ms/step - loss: 0.0000e+00 - accuracy: 0.0060 - val_loss: 3.8334 - val_accuracy: 0.0040\n",
            "Epoch 14/20\n",
            "16/16 [==============================] - 1s 43ms/step - loss: 0.0000e+00 - accuracy: 0.0060 - val_loss: 3.8334 - val_accuracy: 0.0040\n",
            "Epoch 15/20\n",
            "16/16 [==============================] - 1s 43ms/step - loss: 0.0000e+00 - accuracy: 0.0060 - val_loss: 3.8334 - val_accuracy: 0.0040\n",
            "Epoch 16/20\n",
            "16/16 [==============================] - 1s 43ms/step - loss: 0.0000e+00 - accuracy: 0.0060 - val_loss: 3.8334 - val_accuracy: 0.0040\n",
            "Epoch 17/20\n",
            "16/16 [==============================] - 1s 44ms/step - loss: 0.0000e+00 - accuracy: 0.0060 - val_loss: 3.8334 - val_accuracy: 0.0040\n",
            "Epoch 18/20\n",
            "16/16 [==============================] - 1s 44ms/step - loss: 0.0000e+00 - accuracy: 0.0060 - val_loss: 3.8334 - val_accuracy: 0.0040\n",
            "Epoch 19/20\n",
            "16/16 [==============================] - 1s 43ms/step - loss: 0.0000e+00 - accuracy: 0.0060 - val_loss: 3.8334 - val_accuracy: 0.0040\n",
            "Epoch 20/20\n",
            "16/16 [==============================] - 1s 44ms/step - loss: 0.0000e+00 - accuracy: 0.0060 - val_loss: 3.8334 - val_accuracy: 0.0040\n"
          ],
          "name": "stdout"
        }
      ]
    },
    {
      "cell_type": "markdown",
      "metadata": {
        "id": "SXR062E-6RrD",
        "colab_type": "text"
      },
      "source": [
        "Let's display its loss and accuracy curves:"
      ]
    },
    {
      "cell_type": "code",
      "metadata": {
        "id": "XX9gMI8v6RrD",
        "colab_type": "code",
        "outputId": "ecc1c8f3-0a21-44cf-fcec-e232de17e6fb",
        "colab": {
          "base_uri": "https://localhost:8080/",
          "height": 295
        }
      },
      "source": [
        "import matplotlib.pyplot as plt\n",
        "\n",
        "loss = history.history['loss']\n",
        "val_loss = history.history['val_loss']\n",
        "\n",
        "epochs = range(1, len(loss) + 1)\n",
        "\n",
        "plt.plot(epochs, loss, 'bo', label='Training loss')\n",
        "plt.plot(epochs, val_loss, 'b', label='Validation loss')\n",
        "plt.title('Training and validation loss')\n",
        "plt.xlabel('Epochs')\n",
        "plt.ylabel('Loss')\n",
        "plt.legend()\n",
        "\n",
        "plt.show()"
      ],
      "execution_count": 0,
      "outputs": [
        {
          "output_type": "display_data",
          "data": {
            "image/png": "[encoded data removed]",
            "text/plain": [
              "<Figure size 432x288 with 1 Axes>"
            ]
          },
          "metadata": {
            "tags": []
          }
        }
      ]
    },
    {
      "cell_type": "code",
      "metadata": {
        "id": "TEbhpmoH6RrG",
        "colab_type": "code",
        "outputId": "886478aa-9ed1-43c3-a63e-3314f480526a",
        "colab": {
          "base_uri": "https://localhost:8080/",
          "height": 295
        }
      },
      "source": [
        "plt.clf()   # clear figure\n",
        "\n",
        "acc = history.history['accuracy']\n",
        "val_acc = history.history['val_accuracy']\n",
        "\n",
        "plt.plot(epochs, acc, 'bo', label='Training acc')\n",
        "plt.plot(epochs, val_acc, 'b', label='Validation acc')\n",
        "plt.title('Training and validation accuracy')\n",
        "plt.xlabel('Epochs')\n",
        "plt.ylabel('Loss')\n",
        "plt.legend()\n",
        "\n",
        "plt.show()"
      ],
      "execution_count": 0,
      "outputs": [
        {
          "output_type": "display_data",
          "data": {
            "image/png": "[encoded data removed]",
            "text/plain": [
              "<Figure size 432x288 with 1 Axes>"
            ]
          },
          "metadata": {
            "tags": []
          }
        }
      ]
    },
    {
      "cell_type": "markdown",
      "metadata": {
        "id": "GrFQJHl36RrJ",
        "colab_type": "text"
      },
      "source": [
        "It seems that the network starts overfitting after 8 epochs. Let's train a new network from scratch for 8 epochs, then let's evaluate it on \n",
        "the test set:"
      ]
    },
    {
      "cell_type": "code",
      "metadata": {
        "id": "0ed97q7o6RrK",
        "colab_type": "code",
        "outputId": "f0a2ec97-9bda-46a1-b938-b9c0069bfd52",
        "colab": {
          "base_uri": "https://localhost:8080/",
          "height": 306
        }
      },
      "source": [
        "model = models.Sequential()\n",
        "model.add(layers.Dense(64, activation='relu', input_shape=(10000,)))\n",
        "model.add(layers.Dense(64, activation='relu'))\n",
        "model.add(layers.Dense(46, activation='softmax'))\n",
        "\n",
        "model.compile(optimizer='rmsprop',\n",
        "              loss='categorical_crossentropy',\n",
        "              metrics=['accuracy'])\n",
        "model.fit(partial_x_train,\n",
        "          partial_y_train,\n",
        "          epochs=8,\n",
        "          batch_size=512,\n",
        "          validation_data=(x_val, y_val))\n",
        "results = model.evaluate(x_test, one_hot_test_labels)"
      ],
      "execution_count": 0,
      "outputs": [
        {
          "output_type": "stream",
          "text": [
            "Epoch 1/8\n",
            "16/16 [==============================] - 1s 49ms/step - loss: 2.6896 - accuracy: 0.5038 - val_loss: 1.7589 - val_accuracy: 0.6440\n",
            "Epoch 2/8\n",
            "16/16 [==============================] - 1s 43ms/step - loss: 1.4213 - accuracy: 0.7131 - val_loss: 1.3035 - val_accuracy: 0.7170\n",
            "Epoch 3/8\n",
            "16/16 [==============================] - 1s 44ms/step - loss: 1.0372 - accuracy: 0.7776 - val_loss: 1.1301 - val_accuracy: 0.7570\n",
            "Epoch 4/8\n",
            "16/16 [==============================] - 1s 44ms/step - loss: 0.8103 - accuracy: 0.8297 - val_loss: 1.0231 - val_accuracy: 0.7850\n",
            "Epoch 5/8\n",
            "16/16 [==============================] - 1s 43ms/step - loss: 0.6519 - accuracy: 0.8628 - val_loss: 0.9553 - val_accuracy: 0.8010\n",
            "Epoch 6/8\n",
            "16/16 [==============================] - 1s 44ms/step - loss: 0.5176 - accuracy: 0.8925 - val_loss: 0.9066 - val_accuracy: 0.8070\n",
            "Epoch 7/8\n",
            "16/16 [==============================] - 1s 44ms/step - loss: 0.4206 - accuracy: 0.9158 - val_loss: 0.8899 - val_accuracy: 0.8200\n",
            "Epoch 8/8\n",
            "16/16 [==============================] - 1s 44ms/step - loss: 0.3468 - accuracy: 0.9297 - val_loss: 0.9334 - val_accuracy: 0.8040\n",
            "71/71 [==============================] - 0s 2ms/step - loss: 1.0434 - accuracy: 0.7801\n"
          ],
          "name": "stdout"
        }
      ]
    },
    {
      "cell_type": "code",
      "metadata": {
        "id": "JzOh4Fa86RrM",
        "colab_type": "code",
        "outputId": "d6aafd99-7d79-486a-ad81-26ceb379a387",
        "colab": {
          "base_uri": "https://localhost:8080/",
          "height": 34
        }
      },
      "source": [
        "results"
      ],
      "execution_count": 0,
      "outputs": [
        {
          "output_type": "execute_result",
          "data": {
            "text/plain": [
              "[1.0434198379516602, 0.780053436756134]"
            ]
          },
          "metadata": {
            "tags": []
          },
          "execution_count": 142
        }
      ]
    },
    {
      "cell_type": "markdown",
      "metadata": {
        "id": "t_Cxe2U_6RrP",
        "colab_type": "text"
      },
      "source": [
        "\n",
        "Our approach reaches an accuracy of ~78%. With a balanced binary classification problem, the accuracy reached by a purely random classifier \n",
        "would be 50%, but in our case it is closer to 19%, so our results seem pretty good, at least when compared to a random baseline:"
      ]
    },
    {
      "cell_type": "code",
      "metadata": {
        "id": "AraBDLKA6RrQ",
        "colab_type": "code",
        "outputId": "c01bae1d-4ba9-4a83-a45e-f168365994f6",
        "colab": {
          "base_uri": "https://localhost:8080/",
          "height": 34
        }
      },
      "source": [
        "import copy\n",
        "\n",
        "test_labels_copy = copy.copy(test_labels)\n",
        "np.random.shuffle(test_labels_copy)\n",
        "float(np.sum(np.array(test_labels) == np.array(test_labels_copy))) / len(test_labels)"
      ],
      "execution_count": 0,
      "outputs": [
        {
          "output_type": "execute_result",
          "data": {
            "text/plain": [
              "0.1923419412288513"
            ]
          },
          "metadata": {
            "tags": []
          },
          "execution_count": 143
        }
      ]
    },
    {
      "cell_type": "markdown",
      "metadata": {
        "id": "hd7T6hH96RrU",
        "colab_type": "text"
      },
      "source": [
        "## Generating predictions on new data\n",
        "\n",
        "We can verify that the `predict` method of our model instance returns a probability distribution over all 46 topics. Let's generate topic \n",
        "predictions for all of the test data:"
      ]
    },
    {
      "cell_type": "code",
      "metadata": {
        "id": "BlAqKxhA6RrU",
        "colab_type": "code",
        "colab": {}
      },
      "source": [
        "predictions = model.predict(x_test)"
      ],
      "execution_count": 0,
      "outputs": []
    },
    {
      "cell_type": "markdown",
      "metadata": {
        "id": "FKyi4izH6RrX",
        "colab_type": "text"
      },
      "source": [
        "Each entry in `predictions` is a vector of length 46:"
      ]
    },
    {
      "cell_type": "code",
      "metadata": {
        "id": "emUcjhVO6RrX",
        "colab_type": "code",
        "outputId": "9261a713-297a-4e05-b2b3-45d5b5c3ab2c",
        "colab": {
          "base_uri": "https://localhost:8080/",
          "height": 34
        }
      },
      "source": [
        "predictions[0].shape"
      ],
      "execution_count": 0,
      "outputs": [
        {
          "output_type": "execute_result",
          "data": {
            "text/plain": [
              "(46,)"
            ]
          },
          "metadata": {
            "tags": []
          },
          "execution_count": 145
        }
      ]
    },
    {
      "cell_type": "markdown",
      "metadata": {
        "id": "AQ-oBYh-6Rra",
        "colab_type": "text"
      },
      "source": [
        "The coefficients in this vector sum to 1:"
      ]
    },
    {
      "cell_type": "code",
      "metadata": {
        "id": "LfzXkoa66Rrb",
        "colab_type": "code",
        "outputId": "139f36b2-ffef-4d3a-9b0f-7caaffbe159d",
        "colab": {
          "base_uri": "https://localhost:8080/",
          "height": 34
        }
      },
      "source": [
        "np.sum(predictions[0])"
      ],
      "execution_count": 0,
      "outputs": [
        {
          "output_type": "execute_result",
          "data": {
            "text/plain": [
              "1.0000002"
            ]
          },
          "metadata": {
            "tags": []
          },
          "execution_count": 146
        }
      ]
    },
    {
      "cell_type": "markdown",
      "metadata": {
        "id": "GWRDPtHx6Rrd",
        "colab_type": "text"
      },
      "source": [
        "The largest entry is the predicted class, i.e. the class with the highest probability:"
      ]
    },
    {
      "cell_type": "code",
      "metadata": {
        "id": "9dWF0gpf6Rre",
        "colab_type": "code",
        "outputId": "6f7fb30d-2a5d-48eb-ab5c-63e132c27ccf",
        "colab": {
          "base_uri": "https://localhost:8080/",
          "height": 34
        }
      },
      "source": [
        "np.argmax(predictions[0])"
      ],
      "execution_count": 0,
      "outputs": [
        {
          "output_type": "execute_result",
          "data": {
            "text/plain": [
              "3"
            ]
          },
          "metadata": {
            "tags": []
          },
          "execution_count": 147
        }
      ]
    },
    {
      "cell_type": "markdown",
      "metadata": {
        "id": "dlHgaQ9X6Rrh",
        "colab_type": "text"
      },
      "source": [
        "## A different way to handle the labels and the loss\n",
        "\n",
        "We mentioned earlier that another way to encode the labels would be to cast them as an integer tensor, like such:"
      ]
    },
    {
      "cell_type": "code",
      "metadata": {
        "id": "i_Xk0DIU6Rrh",
        "colab_type": "code",
        "colab": {}
      },
      "source": [
        "y_train = np.array(train_labels)\n",
        "y_test = np.array(test_labels)"
      ],
      "execution_count": 0,
      "outputs": []
    },
    {
      "cell_type": "markdown",
      "metadata": {
        "id": "SrmUNj7Y6Rrk",
        "colab_type": "text"
      },
      "source": [
        "\n",
        "The only thing it would change is the choice of the loss function. Our previous loss, `categorical_crossentropy`, expects the labels to \n",
        "follow a categorical encoding. With integer labels, we should use `sparse_categorical_crossentropy`:"
      ]
    },
    {
      "cell_type": "code",
      "metadata": {
        "id": "32YxhTQr6Rrk",
        "colab_type": "code",
        "colab": {}
      },
      "source": [
        "model.compile(optimizer='rmsprop', loss='sparse_categorical_crossentropy', metrics=['acc'])"
      ],
      "execution_count": 0,
      "outputs": []
    },
    {
      "cell_type": "markdown",
      "metadata": {
        "id": "hPDzmiAT6Rro",
        "colab_type": "text"
      },
      "source": [
        "This new loss function is still mathematically the same as `categorical_crossentropy`; it just has a different interface."
      ]
    },
    {
      "cell_type": "markdown",
      "metadata": {
        "id": "Blfhdn1i6Rro",
        "colab_type": "text"
      },
      "source": [
        "## On the importance of having sufficiently large intermediate layers\n",
        "\n",
        "\n",
        "We mentioned earlier that since our final outputs were 46-dimensional, we should avoid intermediate layers with much less than 46 hidden \n",
        "units. Now let's try to see what happens when we introduce an information bottleneck by having intermediate layers significantly less than \n",
        "46-dimensional, e.g. 4-dimensional."
      ]
    },
    {
      "cell_type": "code",
      "metadata": {
        "id": "wMQ2HScj6Rrp",
        "colab_type": "code",
        "outputId": "c50c355d-e71d-48a7-d1fd-6bcda488918b",
        "colab": {
          "base_uri": "https://localhost:8080/",
          "height": 731
        }
      },
      "source": [
        "model = models.Sequential()\n",
        "model.add(layers.Dense(64, activation='relu', input_shape=(10000,)))\n",
        "model.add(layers.Dense(4, activation='relu'))\n",
        "model.add(layers.Dense(46, activation='softmax'))\n",
        "\n",
        "model.compile(optimizer='rmsprop',\n",
        "              loss='categorical_crossentropy',\n",
        "              metrics=['accuracy'])\n",
        "model.fit(partial_x_train,\n",
        "          partial_y_train,\n",
        "          epochs=20,\n",
        "          batch_size=128,\n",
        "          validation_data=(x_val, y_val))\n",
        "print(model.evaluate(x_val, y_val))"
      ],
      "execution_count": 0,
      "outputs": [
        {
          "output_type": "stream",
          "text": [
            "Epoch 1/20\n",
            "63/63 [==============================] - 1s 17ms/step - loss: 2.6866 - accuracy: 0.4007 - val_loss: 1.9454 - val_accuracy: 0.5440\n",
            "Epoch 2/20\n",
            "63/63 [==============================] - 1s 17ms/step - loss: 1.7307 - accuracy: 0.5438 - val_loss: 1.6475 - val_accuracy: 0.5550\n",
            "Epoch 3/20\n",
            "63/63 [==============================] - 1s 16ms/step - loss: 1.4804 - accuracy: 0.5863 - val_loss: 1.5245 - val_accuracy: 0.5910\n",
            "Epoch 4/20\n",
            "63/63 [==============================] - 1s 16ms/step - loss: 1.3176 - accuracy: 0.6367 - val_loss: 1.4378 - val_accuracy: 0.6430\n",
            "Epoch 5/20\n",
            "63/63 [==============================] - 1s 16ms/step - loss: 1.1447 - accuracy: 0.7045 - val_loss: 1.3946 - val_accuracy: 0.6770\n",
            "Epoch 6/20\n",
            "63/63 [==============================] - 1s 16ms/step - loss: 1.0217 - accuracy: 0.7553 - val_loss: 1.3304 - val_accuracy: 0.7140\n",
            "Epoch 7/20\n",
            "63/63 [==============================] - 1s 16ms/step - loss: 0.9241 - accuracy: 0.7805 - val_loss: 1.3382 - val_accuracy: 0.7240\n",
            "Epoch 8/20\n",
            "63/63 [==============================] - 1s 16ms/step - loss: 0.8377 - accuracy: 0.7965 - val_loss: 1.3421 - val_accuracy: 0.7180\n",
            "Epoch 9/20\n",
            "63/63 [==============================] - 1s 16ms/step - loss: 0.7750 - accuracy: 0.8096 - val_loss: 1.3543 - val_accuracy: 0.7240\n",
            "Epoch 10/20\n",
            "63/63 [==============================] - 1s 16ms/step - loss: 0.7181 - accuracy: 0.8205 - val_loss: 1.4042 - val_accuracy: 0.7140\n",
            "Epoch 11/20\n",
            "63/63 [==============================] - 1s 16ms/step - loss: 0.6675 - accuracy: 0.8334 - val_loss: 1.4399 - val_accuracy: 0.7160\n",
            "Epoch 12/20\n",
            "63/63 [==============================] - 1s 16ms/step - loss: 0.6264 - accuracy: 0.8403 - val_loss: 1.5089 - val_accuracy: 0.7110\n",
            "Epoch 13/20\n",
            "63/63 [==============================] - 1s 16ms/step - loss: 0.5895 - accuracy: 0.8452 - val_loss: 1.5605 - val_accuracy: 0.7140\n",
            "Epoch 14/20\n",
            "63/63 [==============================] - 1s 16ms/step - loss: 0.5631 - accuracy: 0.8503 - val_loss: 1.5954 - val_accuracy: 0.7110\n",
            "Epoch 15/20\n",
            "63/63 [==============================] - 1s 16ms/step - loss: 0.5355 - accuracy: 0.8589 - val_loss: 1.6578 - val_accuracy: 0.7140\n",
            "Epoch 16/20\n",
            "63/63 [==============================] - 1s 16ms/step - loss: 0.5069 - accuracy: 0.8641 - val_loss: 1.6895 - val_accuracy: 0.7200\n",
            "Epoch 17/20\n",
            "63/63 [==============================] - 1s 16ms/step - loss: 0.4870 - accuracy: 0.8703 - val_loss: 1.7596 - val_accuracy: 0.7180\n",
            "Epoch 18/20\n",
            "63/63 [==============================] - 1s 16ms/step - loss: 0.4709 - accuracy: 0.8761 - val_loss: 1.8474 - val_accuracy: 0.7120\n",
            "Epoch 19/20\n",
            "63/63 [==============================] - 1s 16ms/step - loss: 0.4497 - accuracy: 0.8817 - val_loss: 1.8393 - val_accuracy: 0.7260\n",
            "Epoch 20/20\n",
            "63/63 [==============================] - 1s 16ms/step - loss: 0.4396 - accuracy: 0.8852 - val_loss: 1.9671 - val_accuracy: 0.7150\n",
            "32/32 [==============================] - 0s 2ms/step - loss: 1.9635 - accuracy: 0.7150\n",
            "[1.9635072946548462, 0.7149999737739563]\n"
          ],
          "name": "stdout"
        }
      ]
    },
    {
      "cell_type": "markdown",
      "metadata": {
        "id": "st0g73jF6Rrr",
        "colab_type": "text"
      },
      "source": [
        "\n",
        "Our network now seems to peak at ~71% test accuracy, a 8% absolute drop. This drop is mostly due to the fact that we are now trying to \n",
        "compress a lot of information (enough information to recover the separation hyperplanes of 46 classes) into an intermediate space that is \n",
        "too low-dimensional. The network is able to cram _most_ of the necessary information into these 8-dimensional representations, but not all \n",
        "of it."
      ]
    },
    {
      "cell_type": "markdown",
      "metadata": {
        "id": "efyTB4aT6Rrs",
        "colab_type": "text"
      },
      "source": [
        "## Further experiments\n",
        "\n",
        "* Try using larger or smaller layers: 32 units, 128 units...\n",
        "* We were using two hidden layers. Now try to use a single hidden layer, or three hidden layers."
      ]
    },
    {
      "cell_type": "markdown",
      "metadata": {
        "id": "EQ_uxoAC6Rrs",
        "colab_type": "text"
      },
      "source": [
        "## Wrapping up\n",
        "\n",
        "\n",
        "Here's what you should take away from this example:\n",
        "\n",
        "* If you are trying to classify data points between N classes, your network should end with a `Dense` layer of size N.\n",
        "* In a single-label, multi-class classification problem, your network should end with a `softmax` activation, so that it will output a \n",
        "probability distribution over the N output classes.\n",
        "* _Categorical crossentropy_ is almost always the loss function you should use for such problems. It minimizes the distance between the \n",
        "probability distributions output by the network, and the true distribution of the targets.\n",
        "* There are two ways to handle labels in multi-class classification:\n",
        "    ** Encoding the labels via \"categorical encoding\" (also known as \"one-hot encoding\") and using `categorical_crossentropy` as your loss \n",
        "function.\n",
        "    ** Encoding the labels as integers and using the `sparse_categorical_crossentropy` loss function.\n",
        "* If you need to classify data into a large number of categories, then you should avoid creating information bottlenecks in your network by having \n",
        "intermediate layers that are too small."
      ]
    },
    {
      "cell_type": "markdown",
      "metadata": {
        "id": "X-7ZqElm6-38",
        "colab_type": "text"
      },
      "source": [
        "#Tasks"
      ]
    },
    {
      "cell_type": "markdown",
      "metadata": {
        "id": "PjHNJvlPgv1V",
        "colab_type": "text"
      },
      "source": [
        "##Model-rating function"
      ]
    },
    {
      "cell_type": "code",
      "metadata": {
        "id": "WkOnt6t6gwD3",
        "colab_type": "code",
        "colab": {}
      },
      "source": [
        "from sklearn.metrics import classification_report, confusion_matrix\n",
        "\n",
        "def model_rating(y_test, y_pred):\n",
        "  report = classification_report(y_test, y_pred,zero_division=1,output_dict=True)\n",
        "  print(\"Confusion Matrix:\\n\",confusion_matrix(y_test, y_pred))\n",
        "  print(\"Accuracy:\\n\",report[\"accuracy\"])\n",
        "  print(\"Macro AVG:\\n\",\n",
        "        str(report[\"macro avg\"]).replace(\"'\",'').replace('{','').replace('}',''))\n",
        "  print(\"Weighted AVG:\\n\",\n",
        "        str(report[\"weighted avg\"]).replace(\"'\",'').replace('{','').replace('}',''))\n",
        "  \n",
        "\n",
        "def rate_model(model, optimizer, loss, x_train=partial_x_train,\n",
        "               y_train=partial_y_train,y_val=y_val, x_val=x_val):\n",
        "  m = model\n",
        "  m.compile(optimizer=optimizer, loss=loss, metrics=['accuracy'])\n",
        "  m.fit(x_train, y_train, epochs=2, batch_size=128,\n",
        "          validation_data=(x_val, y_val))\n",
        "\n",
        "  predictions = m.predict(x_test)\n",
        "  predicted_labels = []\n",
        "  for i in range(len(predictions)):\n",
        "    predicted_labels.append(np.argmax(predictions[i]))\n",
        "  return predicted_labels"
      ],
      "execution_count": 0,
      "outputs": []
    },
    {
      "cell_type": "markdown",
      "metadata": {
        "id": "N8CrB4b2icbL",
        "colab_type": "text"
      },
      "source": [
        "##Refence model"
      ]
    },
    {
      "cell_type": "code",
      "metadata": {
        "id": "HMMycrZGico-",
        "colab_type": "code",
        "outputId": "8cf84d05-cc96-4f66-a47c-1d06252e2450",
        "colab": {
          "base_uri": "https://localhost:8080/",
          "height": 323
        }
      },
      "source": [
        "model0 = models.Sequential()\n",
        "model0.add(layers.Dense(128, activation='relu', input_shape=(10000,)))\n",
        "model0.add(layers.Dense(128, activation='relu'))\n",
        "model0.add(layers.Dense(46, activation='softmax'))\n",
        "\n",
        "labels0 = rate_model(model0,'rmsprop','categorical_crossentropy')\n",
        "model_rating(y_test, labels0)"
      ],
      "execution_count": 0,
      "outputs": [
        {
          "output_type": "stream",
          "text": [
            "Epoch 1/2\n",
            "63/63 [==============================] - 2s 28ms/step - loss: 1.5665 - accuracy: 0.6625 - val_loss: 1.0687 - val_accuracy: 0.7650\n",
            "Epoch 2/2\n",
            "63/63 [==============================] - 2s 27ms/step - loss: 0.7566 - accuracy: 0.8322 - val_loss: 0.8719 - val_accuracy: 0.8120\n",
            "Confusion Matrix:\n",
            " [[ 5  2  0 ...  0  0  0]\n",
            " [ 0 81  0 ...  0  0  0]\n",
            " [ 0  1 13 ...  0  0  0]\n",
            " ...\n",
            " [ 0  0  0 ...  1  0  0]\n",
            " [ 0  0  0 ...  0  4  0]\n",
            " [ 0  0  0 ...  0  0  0]]\n",
            "Accuracy:\n",
            " 0.782279608192342\n",
            "Macro AVG:\n",
            " precision: 0.7519038040060141, recall: 0.35531646496932345, f1-score: 0.38420146640258085, support: 2246\n",
            "Weighted AVG:\n",
            " precision: 0.7805841362561372, recall: 0.782279608192342, f1-score: 0.7578823050263863, support: 2246\n"
          ],
          "name": "stdout"
        }
      ]
    },
    {
      "cell_type": "markdown",
      "metadata": {
        "id": "LVdX_0eO-N1_",
        "colab_type": "text"
      },
      "source": [
        "##1 Hidden Layer"
      ]
    },
    {
      "cell_type": "code",
      "metadata": {
        "id": "lPS0yCgw6Rrv",
        "colab_type": "code",
        "outputId": "77465199-71ed-4561-c5b3-7ba68d37b036",
        "colab": {
          "base_uri": "https://localhost:8080/",
          "height": 323
        }
      },
      "source": [
        "model1 = models.Sequential()\n",
        "model1.add(layers.Dense(64, activation='relu', input_shape=(10000,)))\n",
        "model1.add(layers.Dense(46, activation='softmax'))\n",
        "\n",
        "labels1 = rate_model(model1,'rmsprop','categorical_crossentropy')\n",
        "model_rating(y_test, labels1)"
      ],
      "execution_count": 0,
      "outputs": [
        {
          "output_type": "stream",
          "text": [
            "Epoch 1/2\n",
            "63/63 [==============================] - 1s 17ms/step - loss: 1.8275 - accuracy: 0.6402 - val_loss: 1.2170 - val_accuracy: 0.7460\n",
            "Epoch 2/2\n",
            "63/63 [==============================] - 1s 16ms/step - loss: 0.9382 - accuracy: 0.8011 - val_loss: 0.9708 - val_accuracy: 0.8090\n",
            "Confusion Matrix:\n",
            " [[ 7  2  0 ...  0  0  0]\n",
            " [ 0 84  0 ...  0  0  0]\n",
            " [ 0  5 12 ...  0  0  0]\n",
            " ...\n",
            " [ 0  0  0 ...  0  0  0]\n",
            " [ 0  0  0 ...  0  4  0]\n",
            " [ 0  0  0 ...  0  0  0]]\n",
            "Accuracy:\n",
            " 0.780053428317008\n",
            "Macro AVG:\n",
            " precision: 0.7869270182865501, recall: 0.3238701760935196, f1-score: 0.3456397999247985, support: 2246\n",
            "Weighted AVG:\n",
            " precision: 0.7850961096281065, recall: 0.780053428317008, f1-score: 0.752341911461154, support: 2246\n"
          ],
          "name": "stdout"
        }
      ]
    },
    {
      "cell_type": "markdown",
      "metadata": {
        "id": "7EGgy-HL-Qqz",
        "colab_type": "text"
      },
      "source": [
        "\n",
        "##3 Hidden Layers"
      ]
    },
    {
      "cell_type": "code",
      "metadata": {
        "id": "zf0ciURT9lvF",
        "colab_type": "code",
        "outputId": "1f57be31-5fc9-4f4e-a86e-a0661aece6b5",
        "colab": {
          "base_uri": "https://localhost:8080/",
          "height": 323
        }
      },
      "source": [
        "model2 = models.Sequential()\n",
        "model2.add(layers.Dense(64, activation='relu', input_shape=(10000,)))\n",
        "model2.add(layers.Dense(64, activation='relu'))\n",
        "model2.add(layers.Dense(64, activation='relu'))\n",
        "model2.add(layers.Dense(46, activation='softmax'))\n",
        "\n",
        "\n",
        "labels2 = rate_model(model2,'rmsprop','categorical_crossentropy')\n",
        "model_rating(y_test, labels2)"
      ],
      "execution_count": 0,
      "outputs": [
        {
          "output_type": "stream",
          "text": [
            "Epoch 1/2\n",
            "63/63 [==============================] - 1s 18ms/step - loss: 1.8556 - accuracy: 0.6171 - val_loss: 1.3004 - val_accuracy: 0.6990\n",
            "Epoch 2/2\n",
            "63/63 [==============================] - 1s 16ms/step - loss: 0.9765 - accuracy: 0.7745 - val_loss: 1.0574 - val_accuracy: 0.7590\n",
            "Confusion Matrix:\n",
            " [[ 5  3  1 ...  0  0  0]\n",
            " [ 0 87  0 ...  0  0  0]\n",
            " [ 0  9  7 ...  0  0  0]\n",
            " ...\n",
            " [ 0  0  0 ...  0  0  0]\n",
            " [ 0  1  0 ...  0  0  0]\n",
            " [ 0  0  0 ...  0  0  0]]\n",
            "Accuracy:\n",
            " 0.7413178984861977\n",
            "Macro AVG:\n",
            " precision: 0.8865394632329265, recall: 0.1963930960455872, f1-score: 0.20119417895361963, support: 2246\n",
            "Weighted AVG:\n",
            " precision: 0.7913197859648833, recall: 0.7413178984861977, f1-score: 0.7008439783158471, support: 2246\n"
          ],
          "name": "stdout"
        }
      ]
    },
    {
      "cell_type": "markdown",
      "metadata": {
        "id": "sQJWLR2sfH4g",
        "colab_type": "text"
      },
      "source": [
        "##32 Dimensions"
      ]
    },
    {
      "cell_type": "code",
      "metadata": {
        "id": "IWbxzplefKyF",
        "colab_type": "code",
        "outputId": "e52cee18-8e64-410f-a693-47ff2ffc6af4",
        "colab": {
          "base_uri": "https://localhost:8080/",
          "height": 323
        }
      },
      "source": [
        "model3 = models.Sequential()\n",
        "model3.add(layers.Dense(32, activation='relu', input_shape=(10000,)))\n",
        "model3.add(layers.Dense(32, activation='relu'))\n",
        "model3.add(layers.Dense(46, activation='softmax'))\n",
        "\n",
        "labels3 = rate_model(model3,'rmsprop','categorical_crossentropy')\n",
        "model_rating(y_test, labels3)"
      ],
      "execution_count": 0,
      "outputs": [
        {
          "output_type": "stream",
          "text": [
            "Epoch 1/2\n",
            "63/63 [==============================] - 1s 13ms/step - loss: 2.2743 - accuracy: 0.5651 - val_loss: 1.4879 - val_accuracy: 0.6610\n",
            "Epoch 2/2\n",
            "63/63 [==============================] - 1s 11ms/step - loss: 1.2229 - accuracy: 0.7315 - val_loss: 1.1522 - val_accuracy: 0.7470\n",
            "Confusion Matrix:\n",
            " [[ 1  4  0 ...  0  0  0]\n",
            " [ 0 87  0 ...  0  0  0]\n",
            " [ 0 15  0 ...  0  0  0]\n",
            " ...\n",
            " [ 0  0  0 ...  1  0  0]\n",
            " [ 0  1  0 ...  0  0  0]\n",
            " [ 0  0  0 ...  0  0  0]]\n",
            "Accuracy:\n",
            " 0.7310774710596616\n",
            "Macro AVG:\n",
            " precision: 0.8962608362130231, recall: 0.17633374785999378, f1-score: 0.1806440724564702, support: 2246\n",
            "Weighted AVG:\n",
            " precision: 0.7867845617835885, recall: 0.7310774710596616, f1-score: 0.6847740610678745, support: 2246\n"
          ],
          "name": "stdout"
        }
      ]
    },
    {
      "cell_type": "markdown",
      "metadata": {
        "id": "HbEOIWRMgMnt",
        "colab_type": "text"
      },
      "source": [
        "##128 Dimensions"
      ]
    },
    {
      "cell_type": "code",
      "metadata": {
        "id": "3cx6nNNugNIW",
        "colab_type": "code",
        "outputId": "cdc486a9-30b2-4f7d-c545-c27ae7c4b005",
        "colab": {
          "base_uri": "https://localhost:8080/",
          "height": 323
        }
      },
      "source": [
        "model4 = models.Sequential()\n",
        "model4.add(layers.Dense(128, activation='relu', input_shape=(10000,)))\n",
        "model4.add(layers.Dense(128, activation='relu'))\n",
        "model4.add(layers.Dense(46, activation='softmax'))\n",
        "\n",
        "labels4 = rate_model(model4,'rmsprop','categorical_crossentropy')\n",
        "model_rating(y_test, labels4)"
      ],
      "execution_count": 0,
      "outputs": [
        {
          "output_type": "stream",
          "text": [
            "Epoch 1/2\n",
            "63/63 [==============================] - 2s 28ms/step - loss: 1.5826 - accuracy: 0.6594 - val_loss: 1.0825 - val_accuracy: 0.7790\n",
            "Epoch 2/2\n",
            "63/63 [==============================] - 2s 26ms/step - loss: 0.7611 - accuracy: 0.8307 - val_loss: 0.8864 - val_accuracy: 0.8020\n",
            "Confusion Matrix:\n",
            " [[ 5  2  0 ...  0  0  0]\n",
            " [ 0 86  0 ...  0  0  0]\n",
            " [ 0  2 12 ...  0  0  0]\n",
            " ...\n",
            " [ 0  0  0 ...  0  0  0]\n",
            " [ 0  0  0 ...  0  4  0]\n",
            " [ 0  0  0 ...  0  0  0]]\n",
            "Accuracy:\n",
            " 0.7845057880676759\n",
            "Macro AVG:\n",
            " precision: 0.7759462467219072, recall: 0.3451378047794254, f1-score: 0.3706017170085493, support: 2246\n",
            "Weighted AVG:\n",
            " precision: 0.7877798241710234, recall: 0.7845057880676759, f1-score: 0.7592834541121832, support: 2246\n"
          ],
          "name": "stdout"
        }
      ]
    },
    {
      "cell_type": "markdown",
      "metadata": {
        "id": "VoQEgizWg8pz",
        "colab_type": "text"
      },
      "source": [
        "##Using Categorical Hinge instead of Categorical Crossentropy"
      ]
    },
    {
      "cell_type": "code",
      "metadata": {
        "id": "WF-IZ9Qog84c",
        "colab_type": "code",
        "outputId": "4aa1342f-8281-42e6-aa08-ed831e52f96d",
        "colab": {
          "base_uri": "https://localhost:8080/",
          "height": 323
        }
      },
      "source": [
        "model5 = models.Sequential()\n",
        "model5.add(layers.Dense(64, activation='relu', input_shape=(10000,)))\n",
        "model5.add(layers.Dense(64, activation='relu'))\n",
        "model5.add(layers.Dense(46, activation='softmax'))\n",
        "\n",
        "labels5 = rate_model(model5,'rmsprop','categorical_hinge')\n",
        "model_rating(y_test, labels5)"
      ],
      "execution_count": 0,
      "outputs": [
        {
          "output_type": "stream",
          "text": [
            "Epoch 1/2\n",
            "63/63 [==============================] - 1s 16ms/step - loss: 0.7090 - accuracy: 0.5784 - val_loss: 0.5185 - val_accuracy: 0.6860\n",
            "Epoch 2/2\n",
            "63/63 [==============================] - 1s 16ms/step - loss: 0.4836 - accuracy: 0.7146 - val_loss: 0.4979 - val_accuracy: 0.7110\n",
            "Confusion Matrix:\n",
            " [[ 4  3  0 ...  0  0  0]\n",
            " [ 0 76  0 ...  0  0  0]\n",
            " [ 0  7  1 ...  0  0  0]\n",
            " ...\n",
            " [ 0  0  0 ...  0  0  0]\n",
            " [ 0  1  0 ...  0  4  0]\n",
            " [ 0  0  0 ...  0  0  0]]\n",
            "Accuracy:\n",
            " 0.692787177203918\n",
            "Macro AVG:\n",
            " precision: 0.7673497217455452, recall: 0.15679638352853925, f1-score: 0.14559115979869305, support: 2246\n",
            "Weighted AVG:\n",
            " precision: 0.7405204161928309, recall: 0.692787177203918, f1-score: 0.6439397615307619, support: 2246\n"
          ],
          "name": "stdout"
        }
      ]
    },
    {
      "cell_type": "markdown",
      "metadata": {
        "id": "qxXL-m7Gg9ec",
        "colab_type": "text"
      },
      "source": [
        "##Using tanh instead of relu"
      ]
    },
    {
      "cell_type": "code",
      "metadata": {
        "id": "dwadTagxg9rs",
        "colab_type": "code",
        "outputId": "48536f47-2078-40d0-dd7f-be6ff1acd610",
        "colab": {
          "base_uri": "https://localhost:8080/",
          "height": 323
        }
      },
      "source": [
        "model6 = models.Sequential()\n",
        "model6.add(layers.Dense(64, activation='tanh', input_shape=(10000,)))\n",
        "model6.add(layers.Dense(64, activation='tanh'))\n",
        "model6.add(layers.Dense(46, activation='softmax'))\n",
        "\n",
        "labels6 = rate_model(model6,'rmsprop','categorical_hinge')\n",
        "model_rating(y_test, labels6)"
      ],
      "execution_count": 0,
      "outputs": [
        {
          "output_type": "stream",
          "text": [
            "Epoch 1/2\n",
            "63/63 [==============================] - 1s 17ms/step - loss: 0.6519 - accuracy: 0.6412 - val_loss: 0.5128 - val_accuracy: 0.7150\n",
            "Epoch 2/2\n",
            "63/63 [==============================] - 1s 19ms/step - loss: 0.4481 - accuracy: 0.7447 - val_loss: 0.4453 - val_accuracy: 0.7580\n",
            "Confusion Matrix:\n",
            " [[ 2  2  0 ...  0  0  0]\n",
            " [ 0 85  0 ...  0  0  0]\n",
            " [ 0  3  4 ...  0  0  0]\n",
            " ...\n",
            " [ 0  0  0 ...  2  0  0]\n",
            " [ 1  0  0 ...  0  0  0]\n",
            " [ 0  0  1 ...  0  0  0]]\n",
            "Accuracy:\n",
            " 0.7395369545859305\n",
            "Macro AVG:\n",
            " precision: 0.789899277862308, recall: 0.2197505531475607, f1-score: 0.21707137115072483, support: 2246\n",
            "Weighted AVG:\n",
            " precision: 0.7693636165860817, recall: 0.7395369545859305, f1-score: 0.7020158115112787, support: 2246\n"
          ],
          "name": "stdout"
        }
      ]
    }
  ]
}
