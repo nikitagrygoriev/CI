{
  "nbformat": 4,
  "nbformat_minor": 0,
  "metadata": {
    "colab": {
      "name": "zajecia1.ipynb",
      "provenance": [],
      "collapsed_sections": [],
      "toc_visible": true
    },
    "kernelspec": {
      "name": "python3",
      "display_name": "Python 3"
    }
  },
  "cells": [
    {
      "cell_type": "markdown",
      "metadata": {
        "id": "rnVj7UCQY2ap",
        "colab_type": "text"
      },
      "source": [
        "# Wstęp\n",
        "\n",
        "Wykonaj i przeanalizuj poniższy skrypt"
      ]
    },
    {
      "cell_type": "code",
      "metadata": {
        "id": "rZN3BAlJTLnk",
        "colab_type": "code",
        "outputId": "b2b78151-3596-4145-c950-57ec6a7e6b8b",
        "colab": {
          "base_uri": "https://localhost:8080/",
          "height": 570
        }
      },
      "source": [
        "from sklearn import datasets\n",
        "import matplotlib.pyplot as plt\n",
        "import random\n",
        "import numpy as np\n",
        "\n",
        "iris = datasets.load_iris()\n",
        "digits = datasets.load_digits()\n",
        "diabetes = datasets.load_diabetes()\n",
        "\n",
        "print(\"iris: \", iris.data.shape) # macierz rozmiaru (liczba próbek, liczba cech)\n",
        "print(\"digits: \", digits.data.shape)\n",
        "print(\"diabetes: \", diabetes.data.shape)\n",
        "\n",
        "print(iris.target)\n",
        "\n",
        "digit_idx = 43\n",
        "\n",
        "print(\"Etykieta cyfry: \", digits.target[digit_idx])\n",
        "\n",
        "# wyświetlenie przykładowego obrazu\n",
        "plt.figure(1, figsize=(3, 3))\n",
        "plt.imshow(digits.images[digit_idx], cmap=plt.cm.gray_r, interpolation='nearest')\n",
        "plt.show()\n",
        "\n",
        "def disturb_data(X, sigma):\n",
        "  return X + sigma * np.random.randn(*(X.shape))\n",
        "\n",
        "plt.figure(1, figsize=(3, 3))\n",
        "iris_reduced_data = disturb_data(iris.data[:, [1,3]], 0.3)\n",
        "for d_range in [range(0, 49), range(50, 99), range(100, 149)]:\n",
        "    plt.scatter(iris_reduced_data[d_range, 0], iris_reduced_data[d_range, 1])\n",
        "plt.show()\n"
      ],
      "execution_count": 3,
      "outputs": [
        {
          "output_type": "stream",
          "text": [
            "iris:  (150, 4)\n",
            "digits:  (1797, 64)\n",
            "diabetes:  (442, 10)\n",
            "[0 0 0 0 0 0 0 0 0 0 0 0 0 0 0 0 0 0 0 0 0 0 0 0 0 0 0 0 0 0 0 0 0 0 0 0 0\n",
            " 0 0 0 0 0 0 0 0 0 0 0 0 0 1 1 1 1 1 1 1 1 1 1 1 1 1 1 1 1 1 1 1 1 1 1 1 1\n",
            " 1 1 1 1 1 1 1 1 1 1 1 1 1 1 1 1 1 1 1 1 1 1 1 1 1 1 2 2 2 2 2 2 2 2 2 2 2\n",
            " 2 2 2 2 2 2 2 2 2 2 2 2 2 2 2 2 2 2 2 2 2 2 2 2 2 2 2 2 2 2 2 2 2 2 2 2 2\n",
            " 2 2]\n",
            "Etykieta cyfry:  7\n"
          ],
          "name": "stdout"
        },
        {
          "output_type": "display_data",
          "data": {
            "image/png": "[encoded data removed]",
            "text/plain": [
              "<Figure size 216x216 with 1 Axes>"
            ]
          },
          "metadata": {
            "tags": []
          }
        },
        {
          "output_type": "display_data",
          "data": {
            "image/png": "[encoded data removed]",
            "text/plain": [
              "<Figure size 216x216 with 1 Axes>"
            ]
          },
          "metadata": {
            "tags": []
          }
        }
      ]
    },
    {
      "cell_type": "markdown",
      "metadata": {
        "id": "I7F5jc0_X6-O",
        "colab_type": "text"
      },
      "source": [
        "# Zadanie 1\n",
        "\n",
        "Policz ile jest próbek w poszczególnych klasach"
      ]
    },
    {
      "cell_type": "code",
      "metadata": {
        "id": "Xd6rlS8hWlHG",
        "colab_type": "code",
        "outputId": "d318d903-b9e9-483a-84bb-20347d17adc2",
        "colab": {
          "base_uri": "https://localhost:8080/",
          "height": 34
        }
      },
      "source": [
        "### solution\n",
        "from collections import Counter\n",
        "values, counts = np.unique(iris.target, return_counts=True)\n",
        "print(values, counts)"
      ],
      "execution_count": 36,
      "outputs": [
        {
          "output_type": "stream",
          "text": [
            "[0 1 2] [50 50 50]\n"
          ],
          "name": "stdout"
        }
      ]
    },
    {
      "cell_type": "markdown",
      "metadata": {
        "id": "Zclzut-aaT-N",
        "colab_type": "text"
      },
      "source": [
        "# Zadanie 2\n",
        "\n",
        "Podziel zbiór danych `iris_reduced_data` na dwie części: część treningowa (po 40 osobników z każdej klasy) i testowa (po 10 osobników każdej klasy)\n",
        "Naucz naiwny klasyfikator Bayesa (`GaussianNB`) klasyfikować dane z zestawu `iris_reduced_data` (funkcja `fit` korzystająca z **części treningowej**.\n",
        "Policz (korzystając z **części testowej**):\n",
        "*   False positive rate (TNR)\n",
        "*   True positive rate (FPR)\n",
        "*   False negative rate (FNR)\n",
        "*   True negative rate (FNR)\n",
        "*   Dokładność (accuracy)\n",
        "*   Czułość (sensitivity)\n",
        "*   Swoistość (specificity)\n",
        "*   Krzywą ROC\n",
        "\n",
        "Jak zmienią się te wskaźniki gdy weźmiemy tylko po 30 osobników z każdej klasy do zbioru treningowego? Jak zmieniają się gdy zmniejszymy błąd dodawany w funkcji `disturb_data`?\n"
      ]
    },
    {
      "cell_type": "code",
      "metadata": {
        "id": "auAzymE1nH7x",
        "colab_type": "code",
        "outputId": "212f9e37-946e-4ae0-b8db-8d4cbc9034e6",
        "colab": {
          "base_uri": "https://localhost:8080/",
          "height": 833
        }
      },
      "source": [
        "from matplotlib.colors import ListedColormap\n",
        "import numpy as np\n",
        "from sklearn import metrics\n",
        "from sklearn.model_selection import train_test_split\n",
        "from sklearn.neighbors import KNeighborsClassifier\n",
        "from sklearn.naive_bayes import GaussianNB\n",
        "\n",
        "\n",
        "def train(test_size, err, ind, nb_clf = GaussianNB()):\n",
        "  iris_reduced_data = disturb_data(iris.data[:, [1,3]], err)\n",
        "\n",
        "  clf = nb_clf\n",
        "  \n",
        "  X_train, X_test, y_train, y_test = train_test_split(\n",
        "    iris_reduced_data, iris.target, test_size=test_size, random_state=42, stratify=iris.target)\n",
        "  clf.fit(X_train, y_train)\n",
        "\n",
        "  y_pred = clf.predict(X_test)\n",
        "\n",
        "  print(f\"Report for {test_size*100}% test size with error={err}: \")\n",
        "\n",
        "  # multilabel confusion matrix here\n",
        "  conf_matrix = metrics.confusion_matrix(y_test, y_pred)\n",
        "\n",
        "  sensitivity = round(conf_matrix[ind][ind]/np.sum(conf_matrix[ind,:]),2)       #TPR\n",
        "  specificity = round(np.sum(np.delete(np.delete(conf_matrix, ind, 1), ind, 0))/np.sum(np.delete(conf_matrix, ind, 0)),2)        #TNR\n",
        "  fnr = round((1 - sensitivity),2)      #fall-out\n",
        "  fpr = round((1 - specificity),2)      #miss rate\n",
        "\n",
        "  accuracy = round((np.sum(np.delete(np.delete(conf_matrix, ind, 1), ind, 0)) + conf_matrix[ind][ind]) / np.sum(conf_matrix),2)\n",
        "  ppv = round(conf_matrix[ind][ind]/np.sum(conf_matrix[ : , ind]),2)\n",
        "  npv = round(np.sum(np.delete(np.delete(conf_matrix, ind, 1), ind, 0))/np.sum(np.delete(conf_matrix, ind, 1)),2)\n",
        "\n",
        "\n",
        "  print('Sensitivity(TPR): ',sensitivity, ', Specificity(TNR): ',specificity, \n",
        "        ', Fall-out(FNR): ', fnr, ', Miss Rate(FPR): ', fpr,\n",
        "        ', PPV: ', ppv, ', NPV: ',npv, ', Accuracy(ACC)',accuracy)\n",
        "  print('Confusion Matrix:\\n',conf_matrix,'\\n\\n')\n",
        "  \n",
        "\n",
        "for i in ([.5,.1,0],[.4,.1,1],[.3,.1,0],[.5,.2,0],[.4,.2,0],[.3,.2,0]):\n",
        "  train(i[0],i[1],i[2])    \n",
        "\n"
      ],
      "execution_count": 37,
      "outputs": [
        {
          "output_type": "stream",
          "text": [
            "Report for 50.0% test size with error=0.1: \n",
            "Sensitivity(TPR):  1.0 , Specificity(TNR):  1.0 , Fall-out(FNR):  0.0 , Miss Rate(FPR):  0.0 , PPV:  1.0 , NPV:  1.0 , Accuracy(ACC) 1.0\n",
            "Confusion Matrix:\n",
            " [[25  0  0]\n",
            " [ 0 24  1]\n",
            " [ 0  4 21]] \n",
            "\n",
            "\n",
            "Report for 40.0% test size with error=0.1: \n",
            "Sensitivity(TPR):  0.9 , Specificity(TNR):  0.92 , Fall-out(FNR):  0.1 , Miss Rate(FPR):  0.08 , PPV:  0.86 , NPV:  0.95 , Accuracy(ACC) 0.92\n",
            "Confusion Matrix:\n",
            " [[20  0  0]\n",
            " [ 0 18  2]\n",
            " [ 0  3 17]] \n",
            "\n",
            "\n",
            "Report for 30.0% test size with error=0.1: \n",
            "Sensitivity(TPR):  0.87 , Specificity(TNR):  1.0 , Fall-out(FNR):  0.13 , Miss Rate(FPR):  0.0 , PPV:  1.0 , NPV:  0.94 , Accuracy(ACC) 0.96\n",
            "Confusion Matrix:\n",
            " [[13  2  0]\n",
            " [ 0 13  2]\n",
            " [ 0  3 12]] \n",
            "\n",
            "\n",
            "Report for 50.0% test size with error=0.2: \n",
            "Sensitivity(TPR):  0.96 , Specificity(TNR):  1.0 , Fall-out(FNR):  0.04 , Miss Rate(FPR):  0.0 , PPV:  1.0 , NPV:  0.98 , Accuracy(ACC) 0.99\n",
            "Confusion Matrix:\n",
            " [[24  1  0]\n",
            " [ 0 21  4]\n",
            " [ 0  5 20]] \n",
            "\n",
            "\n",
            "Report for 40.0% test size with error=0.2: \n",
            "Sensitivity(TPR):  0.95 , Specificity(TNR):  1.0 , Fall-out(FNR):  0.05 , Miss Rate(FPR):  0.0 , PPV:  1.0 , NPV:  0.98 , Accuracy(ACC) 0.98\n",
            "Confusion Matrix:\n",
            " [[19  1  0]\n",
            " [ 0 17  3]\n",
            " [ 0  5 15]] \n",
            "\n",
            "\n",
            "Report for 30.0% test size with error=0.2: \n",
            "Sensitivity(TPR):  1.0 , Specificity(TNR):  1.0 , Fall-out(FNR):  0.0 , Miss Rate(FPR):  0.0 , PPV:  1.0 , NPV:  1.0 , Accuracy(ACC) 1.0\n",
            "Confusion Matrix:\n",
            " [[15  0  0]\n",
            " [ 0 11  4]\n",
            " [ 0  4 11]] \n",
            "\n",
            "\n"
          ],
          "name": "stdout"
        }
      ]
    },
    {
      "cell_type": "markdown",
      "metadata": {
        "id": "RBAXhy35SkIG",
        "colab_type": "text"
      },
      "source": [
        "# Zadanie 3\n",
        "\n",
        "Powtórz zadanie 2, ale dla klasyfikatora SVM. Użyj kerneli `rbf` i `linear`. Porównaj działanie dla wartości parametru `C=1.0, 10.0, 0.1`. Dla kernela `rbf` przetestuj różne opcje skalowania cech (parametr `gamma`: wartosci `scale`, `auto`, `1.0`, `10.0`, `0.1`."
      ]
    },
    {
      "cell_type": "code",
      "metadata": {
        "id": "mqFMWzV0Sw4C",
        "colab_type": "code",
        "colab": {}
      },
      "source": [
        "from sklearn.svm import SVC\n",
        "clf = SVC(gamma='auto', kernel='rbf')\n",
        "clf.fit(X, y)"
      ],
      "execution_count": 0,
      "outputs": []
    },
    {
      "cell_type": "markdown",
      "metadata": {
        "id": "7jT_2gw04SVM",
        "colab_type": "text"
      },
      "source": [
        "# Zadanie 4\n",
        "\n",
        "Znajdź najlepsze (pod względem dokładności) parametry klasyfikatora SVM z użyciem 5-krotnej walidacji krzyżowej: kernel, $C$, wybrany parametr kernela. Przeszukaj przynajmniej 100 zestawów wartości.\n",
        "\n",
        "Czy te same parametry zapewniają najlepszą wartość innych metryk?\n",
        "\n",
        "Wykorzystaj `from sklearn.model_selection import KFold`"
      ]
    },
    {
      "cell_type": "code",
      "metadata": {
        "id": "J4aqbEtE7UAL",
        "colab_type": "code",
        "outputId": "8c80c946-57c0-4559-f786-85cd86c955cb",
        "colab": {
          "base_uri": "https://localhost:8080/",
          "height": 323
        }
      },
      "source": [
        "from sklearn.model_selection import KFold\n",
        "from sklearn.svm import SVC\n",
        "\n",
        "def evaluate_classifier(C):\n",
        "  kf = KFold(n_splits=5)\n",
        "  X = iris_reduced_data\n",
        "  y = iris.target\n",
        "  for train_index, test_index in kf.split(X, y):\n",
        "    #print(\"TRAIN:\", train_index, \"TEST:\", test_index)\n",
        "    X_train, X_test = X[train_index], X[test_index]\n",
        "    y_train, y_test = y[train_index], y[test_index]\n",
        "\n",
        "    clf = SVC(gamma='auto', kernel='rbf', C=C)\n",
        "    clf.fit(X_train, y_train)\n",
        "    y_pred = clf.predict(X_test)\n",
        "    print(metrics.accuracy_score(y_test, y_pred))\n",
        "\n",
        "\n",
        "for C in [1.0, 3.0, 0.3]:\n",
        "  print(f\"C = {C}\")\n",
        "  evaluate_classifier(C)"
      ],
      "execution_count": 0,
      "outputs": [
        {
          "output_type": "stream",
          "text": [
            "C = 1.0\n",
            "0.9666666666666667\n",
            "0.8333333333333334\n",
            "0.5666666666666667\n",
            "0.8\n",
            "0.43333333333333335\n",
            "C = 3.0\n",
            "1.0\n",
            "0.8333333333333334\n",
            "0.7\n",
            "0.8\n",
            "0.5\n",
            "C = 0.3\n",
            "0.9333333333333333\n",
            "0.8666666666666667\n",
            "0.1\n",
            "0.8333333333333334\n",
            "0.26666666666666666\n"
          ],
          "name": "stdout"
        }
      ]
    }
  ]
}